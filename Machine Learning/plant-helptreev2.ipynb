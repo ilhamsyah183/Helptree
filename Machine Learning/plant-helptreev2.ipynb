{
 "cells": [
  {
   "cell_type": "code",
   "execution_count": 1,
   "metadata": {},
   "outputs": [],
   "source": [
    "import tensorflow\n",
    "physical_devices = tensorflow.config.experimental.list_physical_devices('GPU')\n",
    "if len(physical_devices) > 0:\n",
    "   tensorflow.config.experimental.set_memory_growth(physical_devices[0], True)"
   ]
  },
  {
   "cell_type": "code",
   "execution_count": 3,
   "metadata": {
    "_uuid": "92a79257c4d64598a05aa97b9102d61c9b33ed9e",
    "execution": {
     "iopub.execute_input": "2021-05-22T03:21:13.838661Z",
     "iopub.status.busy": "2021-05-22T03:21:13.838323Z",
     "iopub.status.idle": "2021-05-22T03:21:13.846293Z",
     "shell.execute_reply": "2021-05-22T03:21:13.845110Z",
     "shell.execute_reply.started": "2021-05-22T03:21:13.838604Z"
    }
   },
   "outputs": [
    {
     "ename": "FileNotFoundError",
     "evalue": "[WinError 3] The system cannot find the path specified: '../input/plant-diseases-classification-using-alexnet'",
     "output_type": "error",
     "traceback": [
      "\u001b[1;31m---------------------------------------------------------------------------\u001b[0m",
      "\u001b[1;31mFileNotFoundError\u001b[0m                         Traceback (most recent call last)",
      "\u001b[1;32m<ipython-input-3-bbeb2b47e114>\u001b[0m in \u001b[0;36m<module>\u001b[1;34m\u001b[0m\n\u001b[0;32m      1\u001b[0m \u001b[1;32mimport\u001b[0m \u001b[0mos\u001b[0m\u001b[1;33m\u001b[0m\u001b[1;33m\u001b[0m\u001b[0m\n\u001b[1;32m----> 2\u001b[1;33m \u001b[0mos\u001b[0m\u001b[1;33m.\u001b[0m\u001b[0mlistdir\u001b[0m\u001b[1;33m(\u001b[0m\u001b[1;34m\"../input/plant-diseases-classification-using-alexnet\"\u001b[0m\u001b[1;33m)\u001b[0m\u001b[1;33m\u001b[0m\u001b[1;33m\u001b[0m\u001b[0m\n\u001b[0m",
      "\u001b[1;31mFileNotFoundError\u001b[0m: [WinError 3] The system cannot find the path specified: '../input/plant-diseases-classification-using-alexnet'"
     ]
    }
   ],
   "source": [
    "import os\n",
    "os.listdir(\"../input/plant-diseases-classification-using-alexnet\")"
   ]
  },
  {
   "cell_type": "code",
   "execution_count": 4,
   "metadata": {
    "execution": {
     "iopub.execute_input": "2021-05-22T03:21:14.002901Z",
     "iopub.status.busy": "2021-05-22T03:21:14.002597Z",
     "iopub.status.idle": "2021-05-22T03:21:14.008744Z",
     "shell.execute_reply": "2021-05-22T03:21:14.007806Z",
     "shell.execute_reply.started": "2021-05-22T03:21:14.002844Z"
    }
   },
   "outputs": [],
   "source": [
    "import tensorflow as tf\n",
    "import numpy as np\n",
    "from tensorflow import keras\n",
    "from tensorflow.keras import layers\n",
    "import matplotlib.pyplot as plt"
   ]
  },
  {
   "cell_type": "markdown",
   "metadata": {
    "_uuid": "f53889b0946d463df9c98d7b265984e1309caaf7"
   },
   "source": [
    "**Building CNN Based On AlexNet Architecture**"
   ]
  },
  {
   "cell_type": "code",
   "execution_count": 5,
   "metadata": {
    "execution": {
     "iopub.execute_input": "2021-05-22T03:21:14.354683Z",
     "iopub.status.busy": "2021-05-22T03:21:14.354360Z",
     "iopub.status.idle": "2021-05-22T03:21:14.360793Z",
     "shell.execute_reply": "2021-05-22T03:21:14.360117Z",
     "shell.execute_reply.started": "2021-05-22T03:21:14.354630Z"
    }
   },
   "outputs": [],
   "source": [
    "img_width,img_height =224,224\n",
    "input_shape=(img_width,img_height,3)"
   ]
  },
  {
   "cell_type": "code",
   "execution_count": 6,
   "metadata": {
    "_uuid": "af2fad01907a8eed0474eccf1eb18f9fc1a03c55",
    "execution": {
     "iopub.execute_input": "2021-05-22T03:21:14.525717Z",
     "iopub.status.busy": "2021-05-22T03:21:14.525189Z",
     "iopub.status.idle": "2021-05-22T03:21:14.657311Z",
     "shell.execute_reply": "2021-05-22T03:21:14.656435Z",
     "shell.execute_reply.started": "2021-05-22T03:21:14.525458Z"
    },
    "scrolled": true
   },
   "outputs": [],
   "source": [
    "model = keras.models.Sequential([\n",
    " keras.layers.Conv2D(32, (5, 5),input_shape=input_shape,activation='relu',name=\"conv2d_1\"),\n",
    " keras.layers.MaxPool2D(pool_size=(3, 3),name=\"max_pooling2d_1\"),\n",
    " keras.layers.Conv2D(32, (3, 3),activation='relu',name=\"conv2d_2\"),\n",
    " keras.layers.MaxPool2D(pool_size=(2, 2),name=\"max_pooling2d_2\"),\n",
    " keras.layers.Conv2D(64, (3, 3),activation='relu',name=\"conv2d_3\"),\n",
    " keras.layers.MaxPool2D(pool_size=(2, 2),name=\"max_pooling2d_3\"),   \n",
    " keras.layers.Flatten(name=\"flatten_1\"),\n",
    " keras.layers.Dense(512,activation='relu'),\n",
    " keras.layers.Dropout(0.25),\n",
    " keras.layers.Dense(128,activation='relu'),          \n",
    " keras.layers.Dense(38,activation='softmax')\n",
    "  ]\n",
    ")\n",
    "\n",
    "\n"
   ]
  },
  {
   "cell_type": "markdown",
   "metadata": {
    "_uuid": "5ffa474faf670f8c35cf60ce34cf50a713543fa8"
   },
   "source": [
    "**Loading Weights To The Model**"
   ]
  },
  {
   "cell_type": "code",
   "execution_count": 7,
   "metadata": {
    "execution": {
     "iopub.execute_input": "2021-05-22T03:22:15.836839Z",
     "iopub.status.busy": "2021-05-22T03:22:15.836309Z",
     "iopub.status.idle": "2021-05-22T03:22:15.926825Z",
     "shell.execute_reply": "2021-05-22T03:22:15.926093Z",
     "shell.execute_reply.started": "2021-05-22T03:22:15.836594Z"
    }
   },
   "outputs": [],
   "source": [
    "model.compile(optimizer='SGD',\n",
    "              loss='categorical_crossentropy',\n",
    "              metrics=['accuracy'])"
   ]
  },
  {
   "cell_type": "code",
   "execution_count": 8,
   "metadata": {
    "execution": {
     "iopub.execute_input": "2021-05-22T03:22:17.531320Z",
     "iopub.status.busy": "2021-05-22T03:22:17.531030Z",
     "iopub.status.idle": "2021-05-22T03:22:23.773651Z",
     "shell.execute_reply": "2021-05-22T03:22:23.772790Z",
     "shell.execute_reply.started": "2021-05-22T03:22:17.531270Z"
    }
   },
   "outputs": [
    {
     "name": "stdout",
     "output_type": "stream",
     "text": [
      "Found 70295 images belonging to 38 classes.\n",
      "Found 17572 images belonging to 38 classes.\n"
     ]
    }
   ],
   "source": [
    "from keras.preprocessing.image import ImageDataGenerator\n",
    "\n",
    "\n",
    "train_datagen = ImageDataGenerator(rescale=1./255,\n",
    "                                   shear_range=0.2,\n",
    "                                   zoom_range=0.2,\n",
    "                                   width_shift_range=0.2,\n",
    "                                   height_shift_range=0.2,\n",
    "                                   fill_mode='nearest')\n",
    "\n",
    "valid_datagen = ImageDataGenerator(rescale=1./255)\n",
    "\n",
    "batch_size = 32\n",
    "base_dir = \"dataset\"\n",
    "\n",
    "training_set = train_datagen.flow_from_directory(base_dir+'/train',\n",
    "                                                 target_size=(224, 224),\n",
    "                                                 batch_size=batch_size,\n",
    "                                                 class_mode='categorical')\n",
    "\n",
    "valid_set = valid_datagen.flow_from_directory(base_dir+'/valid',\n",
    "                                            target_size=(224, 224),\n",
    "                                            batch_size=batch_size,\n",
    "                                            class_mode='categorical')\n"
   ]
  },
  {
   "cell_type": "code",
   "execution_count": 9,
   "metadata": {
    "execution": {
     "iopub.execute_input": "2021-05-22T03:22:23.775685Z",
     "iopub.status.busy": "2021-05-22T03:22:23.775214Z",
     "iopub.status.idle": "2021-05-22T03:22:23.780080Z",
     "shell.execute_reply": "2021-05-22T03:22:23.779007Z",
     "shell.execute_reply.started": "2021-05-22T03:22:23.775633Z"
    }
   },
   "outputs": [],
   "source": [
    "train_num = training_set.samples\n",
    "valid_num = valid_set.samples"
   ]
  },
  {
   "cell_type": "code",
   "execution_count": 10,
   "metadata": {
    "execution": {
     "iopub.execute_input": "2021-05-22T03:22:23.782243Z",
     "iopub.status.busy": "2021-05-22T03:22:23.781799Z",
     "iopub.status.idle": "2021-05-22T03:22:23.793399Z",
     "shell.execute_reply": "2021-05-22T03:22:23.792444Z",
     "shell.execute_reply.started": "2021-05-22T03:22:23.782193Z"
    }
   },
   "outputs": [],
   "source": [
    "from keras.callbacks import ReduceLROnPlateau\n",
    "reduce_lr = ReduceLROnPlateau(monitor='val_loss', factor=0.2,\n",
    "                              patience=5, min_lr=0.001)\n",
    "\n"
   ]
  },
  {
   "cell_type": "code",
   "execution_count": 11,
   "metadata": {
    "_uuid": "232d2543395e74045d5181f51b75064c2683f2fb",
    "execution": {
     "iopub.execute_input": "2021-05-22T03:22:23.795748Z",
     "iopub.status.busy": "2021-05-22T03:22:23.795101Z"
    }
   },
   "outputs": [
    {
     "name": "stderr",
     "output_type": "stream",
     "text": [
      "P:\\Conda\\envs\\tf_24\\lib\\site-packages\\tensorflow\\python\\keras\\engine\\training.py:1844: UserWarning: `Model.fit_generator` is deprecated and will be removed in a future version. Please use `Model.fit`, which supports generators.\n",
      "  warnings.warn('`Model.fit_generator` is deprecated and '\n"
     ]
    },
    {
     "name": "stdout",
     "output_type": "stream",
     "text": [
      "Epoch 1/25\n",
      "2196/2196 [==============================] - 1409s 638ms/step - loss: 3.3677 - accuracy: 0.0928 - val_loss: 2.1967 - val_accuracy: 0.3488\n",
      "Epoch 2/25\n",
      "2196/2196 [==============================] - 723s 329ms/step - loss: 1.9698 - accuracy: 0.4141 - val_loss: 0.9505 - val_accuracy: 0.7016\n",
      "Epoch 3/25\n",
      "2196/2196 [==============================] - 735s 335ms/step - loss: 1.2123 - accuracy: 0.6190 - val_loss: 0.7042 - val_accuracy: 0.7723\n",
      "Epoch 4/25\n",
      "2196/2196 [==============================] - 721s 328ms/step - loss: 0.8724 - accuracy: 0.7238 - val_loss: 0.6213 - val_accuracy: 0.7873\n",
      "Epoch 5/25\n",
      "2196/2196 [==============================] - 724s 330ms/step - loss: 0.7183 - accuracy: 0.7685 - val_loss: 0.4678 - val_accuracy: 0.8466\n",
      "Epoch 6/25\n",
      "2196/2196 [==============================] - 759s 345ms/step - loss: 0.5981 - accuracy: 0.8070 - val_loss: 0.2890 - val_accuracy: 0.9066\n",
      "Epoch 7/25\n",
      "2196/2196 [==============================] - 784s 357ms/step - loss: 0.5115 - accuracy: 0.8334 - val_loss: 0.2980 - val_accuracy: 0.9001\n",
      "Epoch 8/25\n",
      "2196/2196 [==============================] - 708s 323ms/step - loss: 0.4527 - accuracy: 0.8524 - val_loss: 0.2514 - val_accuracy: 0.9156\n",
      "Epoch 9/25\n",
      "2196/2196 [==============================] - 693s 316ms/step - loss: 0.3940 - accuracy: 0.8699 - val_loss: 0.2304 - val_accuracy: 0.9216\n",
      "Epoch 10/25\n",
      "2196/2196 [==============================] - 697s 318ms/step - loss: 0.3586 - accuracy: 0.8841 - val_loss: 0.1806 - val_accuracy: 0.9407\n",
      "Epoch 11/25\n",
      "2196/2196 [==============================] - 723s 329ms/step - loss: 0.3284 - accuracy: 0.8913 - val_loss: 0.1781 - val_accuracy: 0.9386\n",
      "Epoch 12/25\n",
      "2196/2196 [==============================] - 727s 331ms/step - loss: 0.3080 - accuracy: 0.8984 - val_loss: 0.1727 - val_accuracy: 0.9414\n",
      "Epoch 13/25\n",
      "2196/2196 [==============================] - 730s 332ms/step - loss: 0.2871 - accuracy: 0.9051 - val_loss: 0.1302 - val_accuracy: 0.9565\n",
      "Epoch 14/25\n",
      "2196/2196 [==============================] - 706s 322ms/step - loss: 0.2595 - accuracy: 0.9126 - val_loss: 0.1413 - val_accuracy: 0.9506\n",
      "Epoch 15/25\n",
      "2196/2196 [==============================] - 716s 326ms/step - loss: 0.2500 - accuracy: 0.9158 - val_loss: 0.1380 - val_accuracy: 0.9540\n",
      "Epoch 16/25\n",
      "2196/2196 [==============================] - 731s 333ms/step - loss: 0.2314 - accuracy: 0.9232 - val_loss: 0.1324 - val_accuracy: 0.9544\n",
      "Epoch 17/25\n",
      "2196/2196 [==============================] - 727s 331ms/step - loss: 0.2131 - accuracy: 0.9297 - val_loss: 0.1230 - val_accuracy: 0.9594\n",
      "Epoch 18/25\n",
      "2196/2196 [==============================] - 173690s 79s/step - loss: 0.2163 - accuracy: 0.9284 - val_loss: 0.1389 - val_accuracy: 0.9505\n",
      "Epoch 19/25\n",
      "2196/2196 [==============================] - 812s 370ms/step - loss: 0.1924 - accuracy: 0.9352 - val_loss: 0.1314 - val_accuracy: 0.9556\n",
      "Epoch 20/25\n",
      "2196/2196 [==============================] - 699s 318ms/step - loss: 0.1799 - accuracy: 0.9394 - val_loss: 0.1105 - val_accuracy: 0.9620\n",
      "Epoch 21/25\n",
      "2196/2196 [==============================] - 699s 318ms/step - loss: 0.1772 - accuracy: 0.9407 - val_loss: 0.1526 - val_accuracy: 0.9485\n",
      "Epoch 22/25\n",
      "2196/2196 [==============================] - 699s 318ms/step - loss: 0.1732 - accuracy: 0.9423 - val_loss: 0.1152 - val_accuracy: 0.9600\n",
      "Epoch 23/25\n",
      "2196/2196 [==============================] - 703s 320ms/step - loss: 0.1618 - accuracy: 0.9459 - val_loss: 0.1820 - val_accuracy: 0.9421\n",
      "Epoch 24/25\n",
      "2196/2196 [==============================] - 725s 330ms/step - loss: 0.1587 - accuracy: 0.9459 - val_loss: 0.0898 - val_accuracy: 0.9680\n",
      "Epoch 25/25\n",
      "2196/2196 [==============================] - 735s 335ms/step - loss: 0.1463 - accuracy: 0.9514 - val_loss: 0.0868 - val_accuracy: 0.9699\n"
     ]
    }
   ],
   "source": [
    "\n",
    "#fitting images to CNN\n",
    "history = model.fit_generator(training_set,\n",
    "                         steps_per_epoch=train_num//batch_size\n",
    "                              ,\n",
    "                         validation_data=valid_set,\n",
    "                         epochs=25,\n",
    "                         validation_steps= valid_num//batch_size,callbacks=[reduce_lr],\n",
    "                            shuffle=True)\n",
    "    "
   ]
  },
  {
   "cell_type": "code",
   "execution_count": 12,
   "metadata": {
    "execution": {
     "iopub.status.busy": "2021-05-22T03:18:27.224688Z",
     "iopub.status.idle": "2021-05-22T03:18:27.225069Z"
    }
   },
   "outputs": [],
   "source": [
    "path=\"CNNBiasa2.hdf5\"\n",
    "model.save(path)"
   ]
  },
  {
   "cell_type": "code",
   "execution_count": null,
   "metadata": {},
   "outputs": [],
   "source": [
    "from IPython.display import FileLink\n",
    "FileLink(r'CNNBiasa.hdf5')"
   ]
  },
  {
   "cell_type": "markdown",
   "metadata": {
    "_uuid": "db1d7eecfff95a4ad80d96dee3ef45d4360486c9"
   },
   "source": [
    "**Visualising Training Progress**"
   ]
  },
  {
   "cell_type": "code",
   "execution_count": null,
   "metadata": {},
   "outputs": [],
   "source": [
    "os.listdir()"
   ]
  },
  {
   "cell_type": "code",
   "execution_count": null,
   "metadata": {},
   "outputs": [],
   "source": [
    "from IPython.display import FileLink\n",
    "FileLink(r'CNNBiasa.hdf5')"
   ]
  },
  {
   "cell_type": "code",
   "execution_count": null,
   "metadata": {},
   "outputs": [],
   "source": [
    "!pip install seaborn"
   ]
  },
  {
   "cell_type": "code",
   "execution_count": 18,
   "metadata": {
    "_uuid": "9d4090ff76d659e769c6e9d5bde191b09302b098"
   },
   "outputs": [
    {
     "ename": "KeyError",
     "evalue": "'acc'",
     "output_type": "error",
     "traceback": [
      "\u001b[1;31m---------------------------------------------------------------------------\u001b[0m",
      "\u001b[1;31mKeyError\u001b[0m                                  Traceback (most recent call last)",
      "\u001b[1;32m<ipython-input-18-ed133565cd23>\u001b[0m in \u001b[0;36m<module>\u001b[1;34m\u001b[0m\n\u001b[0;32m      4\u001b[0m \u001b[0msns\u001b[0m\u001b[1;33m.\u001b[0m\u001b[0mset\u001b[0m\u001b[1;33m(\u001b[0m\u001b[1;33m)\u001b[0m\u001b[1;33m\u001b[0m\u001b[1;33m\u001b[0m\u001b[0m\n\u001b[0;32m      5\u001b[0m \u001b[1;33m\u001b[0m\u001b[0m\n\u001b[1;32m----> 6\u001b[1;33m \u001b[0macc\u001b[0m \u001b[1;33m=\u001b[0m \u001b[0mhistory\u001b[0m\u001b[1;33m.\u001b[0m\u001b[0mhistory\u001b[0m\u001b[1;33m[\u001b[0m\u001b[1;34m'acc'\u001b[0m\u001b[1;33m]\u001b[0m\u001b[1;33m\u001b[0m\u001b[1;33m\u001b[0m\u001b[0m\n\u001b[0m\u001b[0;32m      7\u001b[0m \u001b[0mval_acc\u001b[0m \u001b[1;33m=\u001b[0m \u001b[0mhistory\u001b[0m\u001b[1;33m.\u001b[0m\u001b[0mhistory\u001b[0m\u001b[1;33m[\u001b[0m\u001b[1;34m'val_acc'\u001b[0m\u001b[1;33m]\u001b[0m\u001b[1;33m\u001b[0m\u001b[1;33m\u001b[0m\u001b[0m\n\u001b[0;32m      8\u001b[0m \u001b[0mloss\u001b[0m \u001b[1;33m=\u001b[0m \u001b[0mhistory\u001b[0m\u001b[1;33m.\u001b[0m\u001b[0mhistory\u001b[0m\u001b[1;33m[\u001b[0m\u001b[1;34m'loss'\u001b[0m\u001b[1;33m]\u001b[0m\u001b[1;33m\u001b[0m\u001b[1;33m\u001b[0m\u001b[0m\n",
      "\u001b[1;31mKeyError\u001b[0m: 'acc'"
     ]
    }
   ],
   "source": [
    "#plotting training values\n",
    "import matplotlib.pyplot as plt\n",
    "import seaborn as sns\n",
    "sns.set()\n",
    "\n",
    "acc = history.history['acc']\n",
    "val_acc = history.history['val_acc']\n",
    "loss = history.history['loss']\n",
    "val_loss = history.history['val_loss']\n",
    "epochs = range(1, len(loss) + 1)\n",
    "\n",
    "#accuracy plot\n",
    "plt.plot(epochs, acc, color='green', label='Training Accuracy')\n",
    "plt.plot(epochs, val_acc, color='blue', label='Validation Accuracy')\n",
    "plt.title('Training and Validation Accuracy')\n",
    "plt.ylabel('Accuracy')\n",
    "plt.xlabel('Epoch')\n",
    "plt.legend()\n",
    "\n",
    "plt.figure()\n",
    "#loss plot\n",
    "plt.plot(epochs, loss, color='pink', label='Training Loss')\n",
    "plt.plot(epochs, val_loss, color='red', label='Validation Loss')\n",
    "plt.title('Training and Validation Loss')\n",
    "plt.xlabel('Epoch')\n",
    "plt.ylabel('Loss')\n",
    "plt.legend()\n",
    "\n",
    "plt.show()"
   ]
  },
  {
   "cell_type": "markdown",
   "metadata": {
    "_uuid": "41ce7e2c92640cab238862be76bc215c5276e1b0"
   },
   "source": [
    "**Predicting New Test Image(s)**"
   ]
  },
  {
   "cell_type": "code",
   "execution_count": 15,
   "metadata": {
    "_uuid": "d7555c94c00798f04c7bbc0d2ddc4e50e20c7d16"
   },
   "outputs": [
    {
     "ename": "ModuleNotFoundError",
     "evalue": "No module named 'seaborn'",
     "output_type": "error",
     "traceback": [
      "\u001b[1;31m---------------------------------------------------------------------------\u001b[0m",
      "\u001b[1;31mModuleNotFoundError\u001b[0m                       Traceback (most recent call last)",
      "\u001b[1;32m<ipython-input-15-a91acc910b1c>\u001b[0m in \u001b[0;36m<module>\u001b[1;34m\u001b[0m\n\u001b[0;32m      1\u001b[0m \u001b[1;32mimport\u001b[0m \u001b[0mmatplotlib\u001b[0m\u001b[1;33m.\u001b[0m\u001b[0mpyplot\u001b[0m \u001b[1;32mas\u001b[0m \u001b[0mplt\u001b[0m\u001b[1;33m\u001b[0m\u001b[1;33m\u001b[0m\u001b[0m\n\u001b[1;32m----> 2\u001b[1;33m \u001b[1;32mimport\u001b[0m \u001b[0mseaborn\u001b[0m \u001b[1;32mas\u001b[0m \u001b[0msns\u001b[0m\u001b[1;33m\u001b[0m\u001b[1;33m\u001b[0m\u001b[0m\n\u001b[0m\u001b[0;32m      3\u001b[0m \u001b[0msns\u001b[0m\u001b[1;33m.\u001b[0m\u001b[0mset\u001b[0m\u001b[1;33m(\u001b[0m\u001b[1;33m)\u001b[0m\u001b[1;33m\u001b[0m\u001b[1;33m\u001b[0m\u001b[0m\n\u001b[0;32m      4\u001b[0m \u001b[1;33m\u001b[0m\u001b[0m\n\u001b[0;32m      5\u001b[0m \u001b[0macc\u001b[0m \u001b[1;33m=\u001b[0m \u001b[0mhistory\u001b[0m\u001b[1;33m.\u001b[0m\u001b[0mhistory\u001b[0m\u001b[1;33m[\u001b[0m\u001b[1;34m'acc'\u001b[0m\u001b[1;33m]\u001b[0m\u001b[1;33m\u001b[0m\u001b[1;33m\u001b[0m\u001b[0m\n",
      "\u001b[1;31mModuleNotFoundError\u001b[0m: No module named 'seaborn'"
     ]
    }
   ],
   "source": [
    "import matplotlib.pyplot as plt\n",
    "import seaborn as sns\n",
    "sns.set()\n",
    "\n",
    "acc = history.history['acc']\n",
    "val_acc = history.history['val_acc']\n",
    "loss = history.history['loss']\n",
    "val_loss = history.history['val_loss']\n",
    "epochs = range(1, len(loss) + 1)\n",
    "\n",
    "#accuracy plot\n",
    "plt.plot(epochs, acc, color='green', label='Training Accuracy')\n",
    "plt.plot(epochs, val_acc, color='blue', label='Validation Accuracy')\n",
    "plt.title('Training and Validation Accuracy')\n",
    "plt.ylabel('Accuracy')\n",
    "plt.xlabel('Epoch')\n",
    "plt.legend()\n",
    "\n",
    "plt.figure()\n",
    "#loss plot\n",
    "plt.plot(epochs, loss, color='pink', label='Training Loss')\n",
    "plt.plot(epochs, val_loss, color='red', label='Validation Loss')\n",
    "plt.title('Training and Validation Loss')\n",
    "plt.xlabel('Epoch')\n",
    "plt.ylabel('Loss')\n",
    "plt.legend()\n",
    "\n",
    "plt.show()\n"
   ]
  },
  {
   "cell_type": "code",
   "execution_count": null,
   "metadata": {},
   "outputs": [],
   "source": []
  }
 ],
 "metadata": {
  "kernelspec": {
   "display_name": "Python 3",
   "language": "python",
   "name": "python3"
  },
  "language_info": {
   "codemirror_mode": {
    "name": "ipython",
    "version": 3
   },
   "file_extension": ".py",
   "mimetype": "text/x-python",
   "name": "python",
   "nbconvert_exporter": "python",
   "pygments_lexer": "ipython3",
   "version": "3.8.8"
  }
 },
 "nbformat": 4,
 "nbformat_minor": 4
}
